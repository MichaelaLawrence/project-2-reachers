{
 "cells": [
  {
   "cell_type": "markdown",
   "metadata": {},
   "source": [
    "# Continuous Control\n",
    "\n",
    "---\n",
    "\n",
    "In this notebook, you will learn how to use the Unity ML-Agents environment for the second project of the [Deep Reinforcement Learning Nanodegree](https://www.udacity.com/course/deep-reinforcement-learning-nanodegree--nd893) program.\n",
    "\n",
    "### 1. Start the Environment\n",
    "\n",
    "We begin by importing the necessary packages.  If the code cell below returns an error, please revisit the project instructions to double-check that you have installed [Unity ML-Agents](https://github.com/Unity-Technologies/ml-agents/blob/master/docs/Installation.md) and [NumPy](http://www.numpy.org/)."
   ]
  },
  {
   "cell_type": "code",
   "execution_count": 1,
   "metadata": {},
   "outputs": [],
   "source": [
    "from unityagents import UnityEnvironment\n",
    "import numpy as np\n",
    "import matplotlib.pyplot as plt\n",
    "import torch\n",
    "import time\n",
    "from collections import deque\n",
    "%matplotlib inline"
   ]
  },
  {
   "cell_type": "code",
   "execution_count": 2,
   "metadata": {},
   "outputs": [],
   "source": [
    "from ddpg_agent import Agent"
   ]
  },
  {
   "cell_type": "markdown",
   "metadata": {},
   "source": [
    "Next, we will start the environment!  **_Before running the code cell below_**, change the `file_name` parameter to match the location of the Unity environment that you downloaded.\n",
    "\n",
    "- **Mac**: `\"path/to/Reacher.app\"`\n",
    "- **Windows** (x86): `\"path/to/Reacher_Windows_x86/Reacher.exe\"`\n",
    "- **Windows** (x86_64): `\"path/to/Reacher_Windows_x86_64/Reacher.exe\"`\n",
    "- **Linux** (x86): `\"path/to/Reacher_Linux/Reacher.x86\"`\n",
    "- **Linux** (x86_64): `\"path/to/Reacher_Linux/Reacher.x86_64\"`\n",
    "- **Linux** (x86, headless): `\"path/to/Reacher_Linux_NoVis/Reacher.x86\"`\n",
    "- **Linux** (x86_64, headless): `\"path/to/Reacher_Linux_NoVis/Reacher.x86_64\"`\n",
    "\n",
    "For instance, if you are using a Mac, then you downloaded `Reacher.app`.  If this file is in the same folder as the notebook, then the line below should appear as follows:\n",
    "```\n",
    "env = UnityEnvironment(file_name=\"Reacher.app\")\n",
    "```"
   ]
  },
  {
   "cell_type": "code",
   "execution_count": 3,
   "metadata": {},
   "outputs": [
    {
     "name": "stderr",
     "output_type": "stream",
     "text": [
      "INFO:unityagents:\n",
      "'Academy' started successfully!\n",
      "Unity Academy name: Academy\n",
      "        Number of Brains: 1\n",
      "        Number of External Brains : 1\n",
      "        Lesson number : 0\n",
      "        Reset Parameters :\n",
      "\t\tgoal_size -> 5.0\n",
      "\t\tgoal_speed -> 1.0\n",
      "Unity brain name: ReacherBrain\n",
      "        Number of Visual Observations (per agent): 0\n",
      "        Vector Observation space type: continuous\n",
      "        Vector Observation space size (per agent): 33\n",
      "        Number of stacked Vector Observation: 1\n",
      "        Vector Action space type: continuous\n",
      "        Vector Action space size (per agent): 4\n",
      "        Vector Action descriptions: , , , \n"
     ]
    }
   ],
   "source": [
    "env = UnityEnvironment(file_name='Reacher_Linux/Reacher.x86_64')"
   ]
  },
  {
   "cell_type": "markdown",
   "metadata": {},
   "source": [
    "Environments contain **_brains_** which are responsible for deciding the actions of their associated agents. Here we check for the first brain available, and set it as the default brain we will be controlling from Python."
   ]
  },
  {
   "cell_type": "code",
   "execution_count": 4,
   "metadata": {},
   "outputs": [],
   "source": [
    "# get the default brain\n",
    "brain_name = env.brain_names[0]\n",
    "brain = env.brains[brain_name]"
   ]
  },
  {
   "cell_type": "markdown",
   "metadata": {},
   "source": [
    "### 2. Examine the State and Action Spaces\n",
    "\n",
    "In this environment, a double-jointed arm can move to target locations. A reward of `+0.1` is provided for each step that the agent's hand is in the goal location. Thus, the goal of your agent is to maintain its position at the target location for as many time steps as possible.\n",
    "\n",
    "The observation space consists of `33` variables corresponding to position, rotation, velocity, and angular velocities of the arm.  Each action is a vector with four numbers, corresponding to torque applicable to two joints.  Every entry in the action vector must be a number between `-1` and `1`.\n",
    "\n",
    "Run the code cell below to print some information about the environment."
   ]
  },
  {
   "cell_type": "code",
   "execution_count": 5,
   "metadata": {},
   "outputs": [
    {
     "name": "stdout",
     "output_type": "stream",
     "text": [
      "Number of agents: 20\n",
      "Size of each action: 4\n",
      "There are 20 agents. Each observes a state with length: 33\n",
      "The state for the first agent looks like: [ 0.00000000e+00 -4.00000000e+00  0.00000000e+00  1.00000000e+00\n",
      " -0.00000000e+00 -0.00000000e+00 -4.37113883e-08  0.00000000e+00\n",
      "  0.00000000e+00  0.00000000e+00  0.00000000e+00  0.00000000e+00\n",
      "  0.00000000e+00  0.00000000e+00 -1.00000000e+01  0.00000000e+00\n",
      "  1.00000000e+00 -0.00000000e+00 -0.00000000e+00 -4.37113883e-08\n",
      "  0.00000000e+00  0.00000000e+00  0.00000000e+00  0.00000000e+00\n",
      "  0.00000000e+00  0.00000000e+00  5.75471878e+00 -1.00000000e+00\n",
      "  5.55726624e+00  0.00000000e+00  1.00000000e+00  0.00000000e+00\n",
      " -1.68164849e-01]\n"
     ]
    }
   ],
   "source": [
    "# reset the environment\n",
    "env_info = env.reset(train_mode=True)[brain_name]\n",
    "\n",
    "# number of agents\n",
    "num_agents = len(env_info.agents)\n",
    "print('Number of agents:', num_agents)\n",
    "\n",
    "# size of each action\n",
    "action_size = brain.vector_action_space_size\n",
    "print('Size of each action:', action_size)\n",
    "\n",
    "# examine the state space \n",
    "states = env_info.vector_observations\n",
    "state_size = states.shape[1]\n",
    "print('There are {} agents. Each observes a state with length: {}'.format(states.shape[0], state_size))\n",
    "print('The state for the first agent looks like:', states[0])"
   ]
  },
  {
   "cell_type": "markdown",
   "metadata": {},
   "source": [
    "### 3. Take Random Actions in the Environment\n",
    "\n",
    "In the next code cell, you will learn how to use the Python API to control the agent and receive feedback from the environment.\n",
    "\n",
    "Once this cell is executed, you will watch the agent's performance, if it selects an action at random with each time step.  A window should pop up that allows you to observe the agent, as it moves through the environment.  \n",
    "\n",
    "Of course, as part of the project, you'll have to change the code so that the agent is able to use its experience to gradually choose better actions when interacting with the environment!"
   ]
  },
  {
   "cell_type": "code",
   "execution_count": 6,
   "metadata": {},
   "outputs": [
    {
     "data": {
      "text/plain": [
       "\"env_info = env.reset(train_mode=False)[brain_name]     # reset the environment    \\nstates = env_info.vector_observations                  # get the current state (for each agent)\\nscores = np.zeros(num_agents)                          # initialize the score (for each agent)\\n\\nwhile True:\\n    actions = np.random.randn(num_agents, action_size) # select an action (for each agent)\\n    actions = np.clip(actions, -1, 1)                  # all actions between -1 and 1\\n    env_info = env.step(actions)[brain_name]           # send all actions to tne environment\\n    next_states = env_info.vector_observations         # get next state (for each agent)\\n    rewards = env_info.rewards                         # get reward (for each agent)\\n    dones = env_info.local_done                        # see if episode finished\\n    scores += env_info.rewards                         # update the score (for each agent)\\n    states = next_states                               # roll over states to next time step\\n    if np.any(dones):                                  # exit loop if episode finished\\n        break\\nprint('Total score (averaged over agents) this episode: {}'.format(np.mean(scores))) \""
      ]
     },
     "execution_count": 6,
     "metadata": {},
     "output_type": "execute_result"
    }
   ],
   "source": [
    "'''env_info = env.reset(train_mode=False)[brain_name]     # reset the environment    \n",
    "states = env_info.vector_observations                  # get the current state (for each agent)\n",
    "scores = np.zeros(num_agents)                          # initialize the score (for each agent)\n",
    "\n",
    "while True:\n",
    "    actions = np.random.randn(num_agents, action_size) # select an action (for each agent)\n",
    "    actions = np.clip(actions, -1, 1)                  # all actions between -1 and 1\n",
    "    env_info = env.step(actions)[brain_name]           # send all actions to tne environment\n",
    "    next_states = env_info.vector_observations         # get next state (for each agent)\n",
    "    rewards = env_info.rewards                         # get reward (for each agent)\n",
    "    dones = env_info.local_done                        # see if episode finished\n",
    "    scores += env_info.rewards                         # update the score (for each agent)\n",
    "    states = next_states                               # roll over states to next time step\n",
    "    if np.any(dones):                                  # exit loop if episode finished\n",
    "        break\n",
    "print('Total score (averaged over agents) this episode: {}'.format(np.mean(scores))) '''"
   ]
  },
  {
   "cell_type": "markdown",
   "metadata": {},
   "source": [
    "When finished, you can close the environment."
   ]
  },
  {
   "cell_type": "code",
   "execution_count": 7,
   "metadata": {},
   "outputs": [],
   "source": [
    "#env.close()"
   ]
  },
  {
   "cell_type": "markdown",
   "metadata": {},
   "source": [
    "### 4. It's Your Turn!\n",
    "\n",
    "Now it's your turn to train your own agent to solve the environment!  When training the environment, set `train_mode=True`, so that the line for resetting the environment looks like the following:\n",
    "```python\n",
    "env_info = env.reset(train_mode=True)[brain_name]\n",
    "```"
   ]
  },
  {
   "cell_type": "code",
   "execution_count": null,
   "metadata": {},
   "outputs": [],
   "source": []
  },
  {
   "cell_type": "code",
   "execution_count": 8,
   "metadata": {},
   "outputs": [
    {
     "data": {
      "text/plain": [
       "device(type='cuda', index=0)"
      ]
     },
     "execution_count": 8,
     "metadata": {},
     "output_type": "execute_result"
    }
   ],
   "source": [
    "device = torch.device(\"cuda:0\" if torch.cuda.is_available() else \"cpu\")\n",
    "device"
   ]
  },
  {
   "cell_type": "code",
   "execution_count": 9,
   "metadata": {},
   "outputs": [],
   "source": [
    "# reset the environment\n",
    "#env = UnityEnvironment(file_name='Reacher_Linux/Reacher.x86_64')\n",
    "#env_info = env.reset(train_mode=True)[brain_name]\n",
    "states = env_info.vector_observations                  # get the current state (for each agent)\n",
    "scores = np.zeros(num_agents)                          # initialize the score (for each agent)"
   ]
  },
  {
   "cell_type": "code",
   "execution_count": 10,
   "metadata": {},
   "outputs": [],
   "source": [
    "agent = Agent(state_size=state_size, action_size=action_size, random_seed=1)"
   ]
  },
  {
   "cell_type": "code",
   "execution_count": 12,
   "metadata": {},
   "outputs": [
    {
     "name": "stderr",
     "output_type": "stream",
     "text": [
      "/home/michaelaons/anaconda3/lib/python3.7/site-packages/torch/nn/functional.py:1340: UserWarning: nn.functional.tanh is deprecated. Use torch.tanh instead.\n",
      "  warnings.warn(\"nn.functional.tanh is deprecated. Use torch.tanh instead.\")\n"
     ]
    },
    {
     "name": "stdout",
     "output_type": "stream",
     "text": [
      "Ep 1\tTotal Avg Score: 0.37\tMean: 0.37\tMin: 0.00\tMax: 1.39\tDuration: 53.11\n",
      "Ep 2\tTotal Avg Score: 0.41\tMean: 0.45\tMin: 0.00\tMax: 1.44\tDuration: 54.35\n",
      "Ep 3\tTotal Avg Score: 0.66\tMean: 1.15\tMin: 0.42\tMax: 2.24\tDuration: 54.71\n",
      "Ep 4\tTotal Avg Score: 0.91\tMean: 1.66\tMin: 0.62\tMax: 3.41\tDuration: 55.18\n",
      "Ep 5\tTotal Avg Score: 1.31\tMean: 2.94\tMin: 0.89\tMax: 4.51\tDuration: 55.28\n",
      "Ep 6\tTotal Avg Score: 1.55\tMean: 2.74\tMin: 1.02\tMax: 5.61\tDuration: 55.60\n",
      "Ep 7\tTotal Avg Score: 1.80\tMean: 3.27\tMin: 0.94\tMax: 5.16\tDuration: 56.24\n",
      "Ep 8\tTotal Avg Score: 2.10\tMean: 4.26\tMin: 0.99\tMax: 7.53\tDuration: 56.43\n",
      "Ep 9\tTotal Avg Score: 2.50\tMean: 5.67\tMin: 1.84\tMax: 7.95\tDuration: 56.50\n",
      "Ep 10\tTotal Avg Score: 2.75\tMean: 4.95\tMin: 0.42\tMax: 10.24\tDuration: 57.04\n",
      "Episode 10\tTotal Average Score: 2.75\n",
      "Ep 11\tTotal Avg Score: 2.98\tMean: 5.34\tMin: 1.90\tMax: 9.71\tDuration: 57.28\n",
      "Ep 12\tTotal Avg Score: 3.22\tMean: 5.90\tMin: 2.00\tMax: 9.02\tDuration: 57.65\n",
      "Ep 13\tTotal Avg Score: 3.42\tMean: 5.72\tMin: 2.95\tMax: 8.09\tDuration: 58.05\n",
      "Ep 14\tTotal Avg Score: 3.76\tMean: 8.22\tMin: 5.19\tMax: 12.82\tDuration: 58.92\n",
      "Ep 15\tTotal Avg Score: 4.03\tMean: 7.75\tMin: 5.67\tMax: 10.27\tDuration: 59.04\n",
      "Ep 16\tTotal Avg Score: 4.30\tMean: 8.43\tMin: 5.16\tMax: 13.56\tDuration: 59.72\n",
      "Ep 17\tTotal Avg Score: 4.65\tMean: 10.29\tMin: 6.09\tMax: 21.18\tDuration: 60.36\n",
      "Ep 18\tTotal Avg Score: 4.98\tMean: 10.56\tMin: 5.12\tMax: 15.17\tDuration: 60.59\n",
      "Ep 19\tTotal Avg Score: 5.35\tMean: 12.04\tMin: 6.36\tMax: 15.84\tDuration: 61.40\n",
      "Ep 20\tTotal Avg Score: 5.76\tMean: 13.48\tMin: 7.83\tMax: 19.53\tDuration: 62.03\n",
      "Episode 20\tTotal Average Score: 5.76\n",
      "Ep 21\tTotal Avg Score: 6.21\tMean: 15.18\tMin: 9.59\tMax: 27.76\tDuration: 62.41\n",
      "Ep 22\tTotal Avg Score: 6.58\tMean: 14.36\tMin: 8.32\tMax: 18.15\tDuration: 62.90\n",
      "Ep 23\tTotal Avg Score: 7.01\tMean: 16.49\tMin: 11.90\tMax: 31.75\tDuration: 63.67\n",
      "Ep 24\tTotal Avg Score: 7.41\tMean: 16.52\tMin: 8.63\tMax: 21.99\tDuration: 64.43\n",
      "Ep 25\tTotal Avg Score: 7.78\tMean: 16.65\tMin: 9.76\tMax: 23.41\tDuration: 64.80\n",
      "Ep 26\tTotal Avg Score: 8.20\tMean: 18.73\tMin: 5.32\tMax: 25.87\tDuration: 65.89\n",
      "Ep 27\tTotal Avg Score: 8.63\tMean: 19.83\tMin: 12.86\tMax: 34.40\tDuration: 66.66\n",
      "Ep 28\tTotal Avg Score: 8.99\tMean: 18.80\tMin: 14.33\tMax: 31.04\tDuration: 67.21\n",
      "Ep 29\tTotal Avg Score: 9.34\tMean: 19.18\tMin: 10.48\tMax: 22.97\tDuration: 67.97\n",
      "Ep 30\tTotal Avg Score: 9.64\tMean: 18.29\tMin: 11.50\tMax: 31.60\tDuration: 68.39\n",
      "Episode 30\tTotal Average Score: 9.64\n",
      "Ep 31\tTotal Avg Score: 10.02\tMean: 21.34\tMin: 13.87\tMax: 34.21\tDuration: 68.87\n",
      "Ep 32\tTotal Avg Score: 10.43\tMean: 23.28\tMin: 13.94\tMax: 36.29\tDuration: 69.78\n",
      "Ep 33\tTotal Avg Score: 10.82\tMean: 23.16\tMin: 13.06\tMax: 33.59\tDuration: 70.69\n",
      "Ep 34\tTotal Avg Score: 11.24\tMean: 25.28\tMin: 17.09\tMax: 33.83\tDuration: 71.53\n",
      "Ep 35\tTotal Avg Score: 11.63\tMean: 24.62\tMin: 17.82\tMax: 33.36\tDuration: 71.84\n",
      "Ep 36\tTotal Avg Score: 12.02\tMean: 25.71\tMin: 16.79\tMax: 33.16\tDuration: 72.86\n",
      "Ep 37\tTotal Avg Score: 12.46\tMean: 28.39\tMin: 20.59\tMax: 34.87\tDuration: 73.31\n",
      "Ep 38\tTotal Avg Score: 12.89\tMean: 28.93\tMin: 23.72\tMax: 32.76\tDuration: 74.03\n",
      "Ep 39\tTotal Avg Score: 13.30\tMean: 28.82\tMin: 17.43\tMax: 34.14\tDuration: 74.98\n",
      "Ep 40\tTotal Avg Score: 13.70\tMean: 29.05\tMin: 18.51\tMax: 36.25\tDuration: 75.44\n",
      "Episode 40\tTotal Average Score: 13.70\n",
      "Ep 41\tTotal Avg Score: 14.08\tMean: 29.50\tMin: 20.80\tMax: 37.08\tDuration: 75.98\n",
      "Ep 42\tTotal Avg Score: 14.48\tMean: 30.78\tMin: 24.15\tMax: 35.84\tDuration: 76.79\n",
      "Ep 43\tTotal Avg Score: 14.87\tMean: 31.25\tMin: 21.22\tMax: 36.96\tDuration: 77.92\n",
      "Ep 44\tTotal Avg Score: 15.26\tMean: 32.27\tMin: 26.56\tMax: 38.89\tDuration: 78.24\n",
      "Ep 45\tTotal Avg Score: 15.64\tMean: 32.34\tMin: 23.43\tMax: 38.60\tDuration: 79.11\n",
      "Ep 46\tTotal Avg Score: 16.03\tMean: 33.65\tMin: 27.80\tMax: 37.19\tDuration: 79.58\n",
      "Ep 47\tTotal Avg Score: 16.38\tMean: 32.05\tMin: 23.33\tMax: 36.44\tDuration: 80.51\n",
      "Ep 48\tTotal Avg Score: 16.74\tMean: 33.94\tMin: 26.78\tMax: 37.81\tDuration: 81.07\n",
      "Ep 49\tTotal Avg Score: 17.15\tMean: 36.59\tMin: 33.49\tMax: 38.88\tDuration: 81.51\n",
      "Ep 50\tTotal Avg Score: 17.53\tMean: 36.18\tMin: 31.74\tMax: 38.65\tDuration: 82.30\n",
      "Episode 50\tTotal Average Score: 17.53\n",
      "Ep 51\tTotal Avg Score: 17.89\tMean: 36.20\tMin: 33.08\tMax: 38.36\tDuration: 83.48\n",
      "Ep 52\tTotal Avg Score: 18.25\tMean: 36.34\tMin: 33.18\tMax: 38.13\tDuration: 83.75\n",
      "Ep 53\tTotal Avg Score: 18.59\tMean: 36.33\tMin: 33.85\tMax: 38.18\tDuration: 83.77\n",
      "Ep 54\tTotal Avg Score: 18.93\tMean: 36.78\tMin: 34.36\tMax: 38.58\tDuration: 83.84\n",
      "Ep 55\tTotal Avg Score: 19.25\tMean: 36.93\tMin: 34.87\tMax: 38.73\tDuration: 83.78\n",
      "Ep 56\tTotal Avg Score: 19.58\tMean: 37.33\tMin: 35.37\tMax: 38.71\tDuration: 83.90\n",
      "Ep 57\tTotal Avg Score: 19.88\tMean: 37.05\tMin: 35.27\tMax: 38.71\tDuration: 84.15\n",
      "Ep 58\tTotal Avg Score: 20.20\tMean: 38.36\tMin: 36.30\tMax: 39.27\tDuration: 84.11\n",
      "Ep 59\tTotal Avg Score: 20.50\tMean: 37.86\tMin: 35.69\tMax: 39.24\tDuration: 84.13\n",
      "Ep 60\tTotal Avg Score: 20.78\tMean: 37.25\tMin: 33.94\tMax: 39.07\tDuration: 84.48\n",
      "Episode 60\tTotal Average Score: 20.78\n",
      "Ep 61\tTotal Avg Score: 21.06\tMean: 37.73\tMin: 34.39\tMax: 39.12\tDuration: 84.29\n",
      "Ep 62\tTotal Avg Score: 21.32\tMean: 37.45\tMin: 35.69\tMax: 38.81\tDuration: 84.23\n",
      "Ep 63\tTotal Avg Score: 21.59\tMean: 38.32\tMin: 36.32\tMax: 39.60\tDuration: 84.20\n",
      "Ep 64\tTotal Avg Score: 21.85\tMean: 38.19\tMin: 35.57\tMax: 39.43\tDuration: 84.34\n",
      "Ep 65\tTotal Avg Score: 22.11\tMean: 38.90\tMin: 37.60\tMax: 39.58\tDuration: 84.26\n",
      "Ep 66\tTotal Avg Score: 22.35\tMean: 37.87\tMin: 35.40\tMax: 39.57\tDuration: 84.28\n",
      "Ep 67\tTotal Avg Score: 22.59\tMean: 38.13\tMin: 36.04\tMax: 39.34\tDuration: 84.34\n",
      "Ep 68\tTotal Avg Score: 22.82\tMean: 38.64\tMin: 37.10\tMax: 39.56\tDuration: 84.31\n",
      "Ep 69\tTotal Avg Score: 23.04\tMean: 38.08\tMin: 37.01\tMax: 39.40\tDuration: 84.24\n",
      "Ep 70\tTotal Avg Score: 23.25\tMean: 37.22\tMin: 35.16\tMax: 39.31\tDuration: 84.59\n",
      "Episode 70\tTotal Average Score: 23.25\n",
      "Ep 71\tTotal Avg Score: 23.47\tMean: 38.73\tMin: 37.57\tMax: 39.44\tDuration: 84.24\n",
      "Ep 72\tTotal Avg Score: 23.68\tMean: 39.03\tMin: 38.26\tMax: 39.54\tDuration: 84.72\n",
      "Ep 73\tTotal Avg Score: 23.87\tMean: 37.20\tMin: 33.60\tMax: 38.47\tDuration: 84.09\n",
      "Ep 74\tTotal Avg Score: 24.06\tMean: 38.51\tMin: 36.49\tMax: 39.60\tDuration: 84.35\n",
      "Ep 75\tTotal Avg Score: 24.25\tMean: 37.99\tMin: 35.84\tMax: 39.56\tDuration: 84.07\n",
      "Ep 76\tTotal Avg Score: 24.42\tMean: 37.36\tMin: 36.05\tMax: 38.79\tDuration: 84.73\n",
      "Ep 77\tTotal Avg Score: 24.60\tMean: 38.30\tMin: 36.53\tMax: 39.34\tDuration: 84.46\n",
      "Ep 78\tTotal Avg Score: 24.77\tMean: 37.73\tMin: 36.33\tMax: 39.00\tDuration: 84.56\n",
      "Ep 79\tTotal Avg Score: 24.93\tMean: 37.17\tMin: 36.05\tMax: 38.71\tDuration: 84.38\n",
      "Ep 80\tTotal Avg Score: 25.10\tMean: 38.30\tMin: 36.00\tMax: 39.45\tDuration: 84.49\n",
      "Episode 80\tTotal Average Score: 25.10\n",
      "Ep 81\tTotal Avg Score: 25.26\tMean: 38.47\tMin: 35.62\tMax: 39.61\tDuration: 84.84\n",
      "Ep 82\tTotal Avg Score: 25.41\tMean: 37.77\tMin: 35.46\tMax: 39.16\tDuration: 84.85\n",
      "Ep 83\tTotal Avg Score: 25.58\tMean: 38.97\tMin: 37.49\tMax: 39.59\tDuration: 84.42\n",
      "Ep 84\tTotal Avg Score: 25.72\tMean: 37.94\tMin: 35.86\tMax: 39.31\tDuration: 84.64\n",
      "Ep 85\tTotal Avg Score: 25.86\tMean: 37.19\tMin: 32.68\tMax: 39.10\tDuration: 84.76\n",
      "Ep 86\tTotal Avg Score: 26.00\tMean: 37.94\tMin: 35.28\tMax: 39.08\tDuration: 85.15\n",
      "Ep 87\tTotal Avg Score: 26.14\tMean: 37.94\tMin: 35.40\tMax: 39.49\tDuration: 84.88\n",
      "Ep 88\tTotal Avg Score: 26.28\tMean: 38.75\tMin: 37.92\tMax: 39.32\tDuration: 84.75\n",
      "Ep 89\tTotal Avg Score: 26.42\tMean: 38.42\tMin: 36.96\tMax: 39.31\tDuration: 84.73\n",
      "Ep 90\tTotal Avg Score: 26.53\tMean: 36.85\tMin: 32.54\tMax: 38.74\tDuration: 84.86\n",
      "Episode 90\tTotal Average Score: 26.53\n",
      "Ep 91\tTotal Avg Score: 26.66\tMean: 38.10\tMin: 34.84\tMax: 39.14\tDuration: 84.69\n",
      "Ep 92\tTotal Avg Score: 26.78\tMean: 37.71\tMin: 35.58\tMax: 39.12\tDuration: 84.74\n",
      "Ep 93\tTotal Avg Score: 26.89\tMean: 37.00\tMin: 32.31\tMax: 39.17\tDuration: 84.64\n",
      "Ep 94\tTotal Avg Score: 27.00\tMean: 37.15\tMin: 35.94\tMax: 38.64\tDuration: 84.95\n",
      "Ep 95\tTotal Avg Score: 27.11\tMean: 37.81\tMin: 36.25\tMax: 38.59\tDuration: 84.90\n",
      "Ep 96\tTotal Avg Score: 27.22\tMean: 37.35\tMin: 34.00\tMax: 39.46\tDuration: 85.00\n",
      "Ep 97\tTotal Avg Score: 27.32\tMean: 36.70\tMin: 31.90\tMax: 38.81\tDuration: 85.00\n",
      "Ep 98\tTotal Avg Score: 27.43\tMean: 38.37\tMin: 37.32\tMax: 39.17\tDuration: 84.77\n",
      "Ep 99\tTotal Avg Score: 27.54\tMean: 38.13\tMin: 35.90\tMax: 39.10\tDuration: 84.92\n",
      "Ep 100\tTotal Avg Score: 27.63\tMean: 37.16\tMin: 34.41\tMax: 38.49\tDuration: 85.27\n",
      "Episode 100\tTotal Average Score: 27.63\n",
      "Ep 101\tTotal Avg Score: 28.01\tMean: 37.85\tMin: 35.20\tMax: 39.41\tDuration: 85.34\n"
     ]
    },
    {
     "name": "stdout",
     "output_type": "stream",
     "text": [
      "Ep 102\tTotal Avg Score: 28.37\tMean: 36.41\tMin: 32.79\tMax: 38.59\tDuration: 85.11\n",
      "Ep 103\tTotal Avg Score: 28.72\tMean: 36.64\tMin: 34.75\tMax: 38.29\tDuration: 84.89\n",
      "Ep 104\tTotal Avg Score: 29.08\tMean: 37.64\tMin: 35.69\tMax: 39.39\tDuration: 84.95\n",
      "Ep 105\tTotal Avg Score: 29.43\tMean: 37.78\tMin: 35.80\tMax: 39.38\tDuration: 85.10\n",
      "Ep 106\tTotal Avg Score: 29.78\tMean: 37.81\tMin: 31.82\tMax: 39.20\tDuration: 85.16\n",
      "Ep 107\tTotal Avg Score: 30.12\tMean: 37.19\tMin: 31.60\tMax: 39.30\tDuration: 85.38\n",
      "Problem Solved after 107 epsisodes!! Total Average score: 30.12\n"
     ]
    }
   ],
   "source": [
    "def ddpg(n_episodes=1000, max_t=1000, print_every=10):\n",
    "    goal_score = 30\n",
    "    total_scores_deque = deque(maxlen=100)\n",
    "    total_scores = []\n",
    "    \n",
    "    for i_episode in range(1, n_episodes+1):\n",
    "        env_info = env.reset(train_mode=True)[brain_name]  # reset the environment    \n",
    "        states = env_info.vector_observations                    # get current state (for each agent)\n",
    "        scores = np.zeros(num_agents)                            # initialize score (for each agent)\n",
    "        agent.reset()\n",
    "        start_time = time.time()\n",
    "        \n",
    "        for time_step in range(max_t):\n",
    "            actions = agent.act(states)                         # select an action\n",
    "            env_info = env.step(actions)[brain_name]            # send all actions to the environment\n",
    "            next_states = env_info.vector_observations          # get next state (for each agent)\n",
    "            rewards = env_info.rewards                          # get reward\n",
    "            \n",
    "            dones = env_info.local_done                         # see whether episode is finished\n",
    "            \n",
    "            for state, action, reward, next_state, done in zip(states, actions, rewards, next_states, dones):\n",
    "                agent.step(state, action, reward, next_state, done, time_step) # send actions to the agent\n",
    "            \n",
    "            states = next_states                        # roll over states to next time step\n",
    "            scores += rewards                           # update the score (for each agent)\n",
    "            \n",
    "            if np.any(dones):                           # exit loop if the episode is finished\n",
    "                break\n",
    "    \n",
    "        mean_score = np.mean(scores)\n",
    "        min_score = np.min(scores)\n",
    "        max_score = np.max(scores)\n",
    "        total_scores_deque.append(mean_score)\n",
    "        total_scores.append(mean_score)\n",
    "        total_average_score = np.mean(total_scores_deque)\n",
    "        duration = time.time() - start_time\n",
    "        \n",
    "        print('\\rEp {}\\tTotal Avg Score: {:.2f}\\tMean: {:.2f}\\tMin: {:.2f}\\tMax: {:.2f}\\tDuration: {:.2f}'\n",
    "              .format(i_episode, total_average_score, mean_score, min_score, max_score, duration))\n",
    "\n",
    "        if i_episode % print_every == 0:\n",
    "            print('\\rEpisode {}\\tTotal Average Score: {:.2f}'.format(i_episode, total_average_score))  \n",
    "            \n",
    "        if total_average_score >= goal_score and i_episode >= 100:\n",
    "            print('Problem Solved after {} episodes! Total Average score: {:.2f}'.format(i_episode, total_average_score))\n",
    "            torch.save(agent.actor_local.state_dict(), 'checkpoint_actor.pth')\n",
    "            torch.save(agent.critic_local.state_dict(), 'checkpoint_critic.pth')\n",
    "            break\n",
    "    \n",
    "    return total_scores\n",
    "\n",
    "scores = ddpg()"
   ]
  },
  {
   "cell_type": "code",
   "execution_count": 18,
   "metadata": {},
   "outputs": [
    {
     "data": {
      "image/png": "[encoded data removed]",
      "text/plain": [
       "<Figure size 432x288 with 1 Axes>"
      ]
     },
     "metadata": {
      "needs_background": "light"
     },
     "output_type": "display_data"
    }
   ],
   "source": [
    "avg_scores_window = [np.mean(scores[max(0,i-100):i+1]) \n",
    "                     for i in range(len(scores))]\n",
    "\n",
    "# plot the scores\n",
    "fig = plt.figure()\n",
    "ax = fig.add_subplot(111)\n",
    "plt.plot(np.arange(1, len(scores)+1), scores, label=\"window size 1\")\n",
    "plt.plot(np.arange(1, len(scores)+1), avg_scores_window, label=\"window size 100\")\n",
    "plt.plot(np.arange(1, len(scores)+1), [30]*len(scores), \n",
    "         linestyle='--', color='red')\n",
    "plt.ylabel('Average Score')\n",
    "plt.xlabel('Episode #')\n",
    "plt.ylim(ymin=0) \n",
    "plt.xlim(xmin = 0, xmax = len(scores))\n",
    "plt.legend()\n",
    "plt.savefig('best_scores.pdf')\n",
    "plt.show()"
   ]
  },
  {
   "cell_type": "code",
   "execution_count": null,
   "metadata": {},
   "outputs": [],
   "source": []
  }
 ],
 "metadata": {
  "kernelspec": {
   "display_name": "drlnd",
   "language": "python",
   "name": "drlnd"
  },
  "language_info": {
   "codemirror_mode": {
    "name": "ipython",
    "version": 3
   },
   "file_extension": ".py",
   "mimetype": "text/x-python",
   "name": "python",
   "nbconvert_exporter": "python",
   "pygments_lexer": "ipython3",
   "version": "3.7.4"
  }
 },
 "nbformat": 4,
 "nbformat_minor": 2
}
